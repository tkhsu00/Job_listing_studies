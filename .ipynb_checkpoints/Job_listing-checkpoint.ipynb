{
 "cells": [
  {
   "cell_type": "code",
   "execution_count": 22,
   "metadata": {},
   "outputs": [],
   "source": [
    "import pandas as pd\n",
    "import numpy as np"
   ]
  },
  {
   "cell_type": "code",
   "execution_count": 2,
   "metadata": {},
   "outputs": [],
   "source": [
    "df = pd.read_csv(\"job_listings_USA.csv\", encoding = \"ISO-8859-1\",header=None)"
   ]
  },
  {
   "cell_type": "code",
   "execution_count": 3,
   "metadata": {},
   "outputs": [],
   "source": [
    "df.columns = ['Title','Brand','Category','City','State','Date']"
   ]
  },
  {
   "cell_type": "code",
   "execution_count": 26,
   "metadata": {},
   "outputs": [
    {
     "data": {
      "text/plain": [
       "(12428859, 7)"
      ]
     },
     "execution_count": 26,
     "metadata": {},
     "output_type": "execute_result"
    }
   ],
   "source": [
    "df.shape"
   ]
  },
  {
   "cell_type": "code",
   "execution_count": 4,
   "metadata": {},
   "outputs": [],
   "source": [
    "df['Date'] = pd.to_datetime(df['Date'], errors='coerce')"
   ]
  },
  {
   "cell_type": "code",
   "execution_count": 14,
   "metadata": {
    "scrolled": true
   },
   "outputs": [
    {
     "name": "stderr",
     "output_type": "stream",
     "text": [
      "C:\\ProgramData\\Anaconda3\\lib\\site-packages\\IPython\\core\\interactiveshell.py:3049: DtypeWarning: Columns (9,10) have mixed types. Specify dtype option on import or set low_memory=False.\n",
      "  interactivity=interactivity, compiler=compiler, result=result)\n"
     ]
    }
   ],
   "source": [
    "df_linkedin = pd.read_csv(\"temp_datalab_records_linkedin_company.csv\")"
   ]
  },
  {
   "cell_type": "code",
   "execution_count": 17,
   "metadata": {},
   "outputs": [],
   "source": [
    "df_linkedin_clean = df_linkedin.dropna(subset=['industry'])"
   ]
  },
  {
   "cell_type": "code",
   "execution_count": 29,
   "metadata": {},
   "outputs": [],
   "source": [
    "d_company_industry = dict(df_linkedin_clean.groupby('company_name')['industry'].apply(list))"
   ]
  },
  {
   "cell_type": "code",
   "execution_count": 30,
   "metadata": {},
   "outputs": [
    {
     "data": {
      "text/plain": [
       "(1792219, 7)"
      ]
     },
     "execution_count": 30,
     "metadata": {},
     "output_type": "execute_result"
    }
   ],
   "source": [
    "df['Industry'] = df['Brand'].apply(lambda s: d_company_industry[s][0] if s in d_company_industry else np.nan)\n",
    "df_temp = df.dropna(subset=['Industry'])\n",
    "df_temp.shape"
   ]
  },
  {
   "cell_type": "code",
   "execution_count": 31,
   "metadata": {
    "scrolled": true
   },
   "outputs": [
    {
     "data": {
      "text/html": [
       "<div>\n",
       "<style scoped>\n",
       "    .dataframe tbody tr th:only-of-type {\n",
       "        vertical-align: middle;\n",
       "    }\n",
       "\n",
       "    .dataframe tbody tr th {\n",
       "        vertical-align: top;\n",
       "    }\n",
       "\n",
       "    .dataframe thead th {\n",
       "        text-align: right;\n",
       "    }\n",
       "</style>\n",
       "<table border=\"1\" class=\"dataframe\">\n",
       "  <thead>\n",
       "    <tr style=\"text-align: right;\">\n",
       "      <th></th>\n",
       "      <th>Title</th>\n",
       "      <th>Brand</th>\n",
       "      <th>Category</th>\n",
       "      <th>City</th>\n",
       "      <th>State</th>\n",
       "      <th>Date</th>\n",
       "      <th>Industry</th>\n",
       "    </tr>\n",
       "  </thead>\n",
       "  <tbody>\n",
       "    <tr>\n",
       "      <th>0</th>\n",
       "      <td>Automotive Technician Coggin Honda St. Augustine</td>\n",
       "      <td>Asbury Automotive Group</td>\n",
       "      <td>NaN</td>\n",
       "      <td>St. Augustine</td>\n",
       "      <td>FL</td>\n",
       "      <td>2018-04-12</td>\n",
       "      <td>Automotive</td>\n",
       "    </tr>\n",
       "    <tr>\n",
       "      <th>1</th>\n",
       "      <td>Part Time Receptionist / Nights and Weekends /...</td>\n",
       "      <td>Asbury Automotive Group</td>\n",
       "      <td>NaN</td>\n",
       "      <td>Atlanta</td>\n",
       "      <td>GA</td>\n",
       "      <td>2018-03-05</td>\n",
       "      <td>Automotive</td>\n",
       "    </tr>\n",
       "    <tr>\n",
       "      <th>2</th>\n",
       "      <td>Service Technician &amp; Used Technician McDavid P...</td>\n",
       "      <td>Asbury Automotive Group</td>\n",
       "      <td>NaN</td>\n",
       "      <td>Plano</td>\n",
       "      <td>TX</td>\n",
       "      <td>2018-04-16</td>\n",
       "      <td>Automotive</td>\n",
       "    </tr>\n",
       "    <tr>\n",
       "      <th>3</th>\n",
       "      <td>Part-time Receptionist / Plaza Land Rover</td>\n",
       "      <td>Asbury Automotive Group</td>\n",
       "      <td>NaN</td>\n",
       "      <td>Creve Coeur</td>\n",
       "      <td>MO</td>\n",
       "      <td>2018-04-23</td>\n",
       "      <td>Automotive</td>\n",
       "    </tr>\n",
       "    <tr>\n",
       "      <th>4</th>\n",
       "      <td>Automotive Service Technician McDavid Honda Ir...</td>\n",
       "      <td>Asbury Automotive Group</td>\n",
       "      <td>NaN</td>\n",
       "      <td>Irving</td>\n",
       "      <td>TX</td>\n",
       "      <td>2018-04-30</td>\n",
       "      <td>Automotive</td>\n",
       "    </tr>\n",
       "  </tbody>\n",
       "</table>\n",
       "</div>"
      ],
      "text/plain": [
       "                                               Title                    Brand  \\\n",
       "0   Automotive Technician Coggin Honda St. Augustine  Asbury Automotive Group   \n",
       "1  Part Time Receptionist / Nights and Weekends /...  Asbury Automotive Group   \n",
       "2  Service Technician & Used Technician McDavid P...  Asbury Automotive Group   \n",
       "3          Part-time Receptionist / Plaza Land Rover  Asbury Automotive Group   \n",
       "4  Automotive Service Technician McDavid Honda Ir...  Asbury Automotive Group   \n",
       "\n",
       "  Category           City State       Date    Industry  \n",
       "0      NaN  St. Augustine    FL 2018-04-12  Automotive  \n",
       "1      NaN        Atlanta    GA 2018-03-05  Automotive  \n",
       "2      NaN          Plano    TX 2018-04-16  Automotive  \n",
       "3      NaN    Creve Coeur    MO 2018-04-23  Automotive  \n",
       "4      NaN         Irving    TX 2018-04-30  Automotive  "
      ]
     },
     "execution_count": 31,
     "metadata": {},
     "output_type": "execute_result"
    }
   ],
   "source": [
    "df_temp.head()"
   ]
  },
  {
   "cell_type": "code",
   "execution_count": 42,
   "metadata": {},
   "outputs": [
    {
     "name": "stderr",
     "output_type": "stream",
     "text": [
      "C:\\ProgramData\\Anaconda3\\lib\\site-packages\\pandas\\core\\generic.py:6586: SettingWithCopyWarning: \n",
      "A value is trying to be set on a copy of a slice from a DataFrame\n",
      "\n",
      "See the caveats in the documentation: http://pandas.pydata.org/pandas-docs/stable/indexing.html#indexing-view-versus-copy\n",
      "  self._update_inplace(new_data)\n"
     ]
    },
    {
     "data": {
      "text/plain": [
       "Retail                                 685453\n",
       "Internet                               240642\n",
       "Business Supplies and Equipment        219109\n",
       "Consumer Electronics                   205969\n",
       "Banking                                 50091\n",
       "Restaurants                             37648\n",
       "Hospital &amp; Health Care              34668\n",
       "Apparel & Fashion                       33129\n",
       "Information Technology and Services     32820\n",
       "Investment Banking                      31205\n",
       "Automotive                              23176\n",
       "Government Administration               19067\n",
       "Logistics and Supply Chain              18452\n",
       "Renewables & Environment                18325\n",
       "Electrical/Electronic Manufacturing     16890\n",
       "Construction                            16658\n",
       "Broadcast Media                         13966\n",
       "Computer Software                       13358\n",
       "Pharmaceuticals                         10222\n",
       "Hospital & Health Care                  10017\n",
       "Machinery                                7406\n",
       "Research                                 6844\n",
       "Packaging and Containers                 6306\n",
       "Biotechnology                            5224\n",
       "Defense &amp; Space                      4628\n",
       "Education Management                     4576\n",
       "Medical Devices                          4211\n",
       "Building Materials                       4112\n",
       "Real Estate                              3903\n",
       "Chemicals                                2548\n",
       "Entertainment                            1664\n",
       "Commercial Real Estate                   1643\n",
       "Financial Services                       1637\n",
       "Airlines/Aviation                        1449\n",
       "Semiconductors                           1428\n",
       "Wireless                                 1341\n",
       "Insurance                                1294\n",
       "Utilities                                 515\n",
       "Oil &amp; Energy                          251\n",
       "Tobacco                                    84\n",
       "Outsourcing/Offshoring                     82\n",
       "Telecommunications                         77\n",
       "Consumer Goods                             70\n",
       "Marketing and Advertising                  61\n",
       "Name: Industry, dtype: int64"
      ]
     },
     "execution_count": 42,
     "metadata": {},
     "output_type": "execute_result"
    }
   ],
   "source": [
    "df_temp['Industry'].replace('amp;','',inplace=True)\n",
    "df_temp['Industry'].replace('&','and',inplace=True)\n",
    "df_temp['Industry'].value_counts()"
   ]
  },
  {
   "cell_type": "code",
   "execution_count": 39,
   "metadata": {
    "scrolled": false
   },
   "outputs": [
    {
     "data": {
      "text/plain": [
       "Retail                                 685453\n",
       "Internet                               240642\n",
       "Business Supplies and Equipment        219109\n",
       "Consumer Electronics                   205969\n",
       "Banking                                 50091\n",
       "Restaurants                             37648\n",
       "Hospital &amp; Health Care              34668\n",
       "Apparel & Fashion                       33129\n",
       "Information Technology and Services     32820\n",
       "Investment Banking                      31205\n",
       "Automotive                              23176\n",
       "Government Administration               19067\n",
       "Logistics and Supply Chain              18452\n",
       "Renewables & Environment                18325\n",
       "Electrical/Electronic Manufacturing     16890\n",
       "Construction                            16658\n",
       "Broadcast Media                         13966\n",
       "Computer Software                       13358\n",
       "Pharmaceuticals                         10222\n",
       "Hospital & Health Care                  10017\n",
       "Machinery                                7406\n",
       "Research                                 6844\n",
       "Packaging and Containers                 6306\n",
       "Biotechnology                            5224\n",
       "Defense &amp; Space                      4628\n",
       "Education Management                     4576\n",
       "Medical Devices                          4211\n",
       "Building Materials                       4112\n",
       "Real Estate                              3903\n",
       "Chemicals                                2548\n",
       "Entertainment                            1664\n",
       "Commercial Real Estate                   1643\n",
       "Financial Services                       1637\n",
       "Airlines/Aviation                        1449\n",
       "Semiconductors                           1428\n",
       "Wireless                                 1341\n",
       "Insurance                                1294\n",
       "Utilities                                 515\n",
       "Oil &amp; Energy                          251\n",
       "Tobacco                                    84\n",
       "Outsourcing/Offshoring                     82\n",
       "Telecommunications                         77\n",
       "Consumer Goods                             70\n",
       "Marketing and Advertising                  61\n",
       "Name: Industry, dtype: int64"
      ]
     },
     "execution_count": 39,
     "metadata": {},
     "output_type": "execute_result"
    }
   ],
   "source": []
  },
  {
   "cell_type": "code",
   "execution_count": 36,
   "metadata": {},
   "outputs": [
    {
     "data": {
      "text/plain": [
       "State               Industry                           \n",
       "AK                  Apparel & Fashion                         75\n",
       "                    Business Supplies and Equipment          963\n",
       "                    Retail                                    33\n",
       "AL                  Apparel & Fashion                         96\n",
       "                    Banking                                  594\n",
       "                    Biotechnology                              3\n",
       "                    Broadcast Media                          262\n",
       "                    Building Materials                        88\n",
       "                    Business Supplies and Equipment         4435\n",
       "                    Chemicals                                145\n",
       "                    Construction                             144\n",
       "                    Defense &amp; Space                      762\n",
       "                    Electrical/Electronic Manufacturing     1761\n",
       "                    Internet                                 144\n",
       "                    Logistics and Supply Chain                82\n",
       "                    Pharmaceuticals                           18\n",
       "                    Retail                                 30278\n",
       "AR                  Apparel & Fashion                         54\n",
       "                    Banking                                 2137\n",
       "                    Broadcast Media                          380\n",
       "                    Business Supplies and Equipment         2206\n",
       "                    Computer Software                         17\n",
       "                    Defense &amp; Space                     1004\n",
       "                    Hospital & Health Care                     6\n",
       "                    Information Technology and Services      223\n",
       "                    Internet                                  28\n",
       "                    Machinery                                 10\n",
       "                    Retail                                 12174\n",
       "AZ                  Airlines/Aviation                         40\n",
       "                    Apparel & Fashion                        542\n",
       "                                                           ...  \n",
       "WI                  Packaging and Containers                  11\n",
       "                    Pharmaceuticals                         1733\n",
       "                    Renewables & Environment                  92\n",
       "                    Retail                                  4619\n",
       "WV                  Airlines/Aviation                         35\n",
       "                    Banking                                 2114\n",
       "                    Business Supplies and Equipment          524\n",
       "                    Internet                                  22\n",
       "                    Retail                                  2586\n",
       "WY                  Airlines/Aviation                         55\n",
       "                    Business Supplies and Equipment          460\n",
       "                    Retail                                  1140\n",
       "Wake Forest         Real Estate                                3\n",
       "Wappingers Falls    Real Estate                                3\n",
       "Warrington          Real Estate                                8\n",
       "Warsaw              Retail                                     3\n",
       "Watford City        Oil &amp; Energy                          27\n",
       "West Palm Beach     Real Estate                                3\n",
       "Westborough         Real Estate                                9\n",
       "Westworth Village   Real Estate                                2\n",
       "Whitehouse Station  Real Estate                                3\n",
       "Williston           Oil &amp; Energy                          60\n",
       "Wilmington          Retail                                     3\n",
       "Winter Garden       Real Estate                                1\n",
       "Wixom               Real Estate                                3\n",
       "Woodinville         Retail                                     3\n",
       "Woodstock           Retail                                     3\n",
       "Worcester           Retail                                     1\n",
       "Yardley             Real Estate                                3\n",
       "not set             Research                                  10\n",
       "Name: Industry, Length: 989, dtype: int64"
      ]
     },
     "execution_count": 36,
     "metadata": {},
     "output_type": "execute_result"
    }
   ],
   "source": [
    "df.groupby(['State','Industry'])['Industry'].count()"
   ]
  },
  {
   "cell_type": "code",
   "execution_count": null,
   "metadata": {},
   "outputs": [],
   "source": [
    "df.groupby(['City','Category']).count()"
   ]
  },
  {
   "cell_type": "code",
   "execution_count": null,
   "metadata": {},
   "outputs": [],
   "source": [
    "website_url = requests.get('https://www.governing.com/gov-data/population-density-land-area-cities-map.html').text"
   ]
  },
  {
   "cell_type": "code",
   "execution_count": null,
   "metadata": {},
   "outputs": [],
   "source": [
    "# get the table\n",
    "soup = BeautifulSoup(website_url,'lxml')\n",
    "my_table = soup.find(\"table\", { \"class\":\"dataTable\"})"
   ]
  },
  {
   "cell_type": "code",
   "execution_count": null,
   "metadata": {},
   "outputs": [],
   "source": [
    "# Function: Convert BeautifulSoup tags to string list\n",
    "def convert_to_list(bs4row):\n",
    "    list_bs4row = bs4row.findAll([\"td\",\"th\"])\n",
    "    return [bs4.get_text().strip() for bs4 in list_bs4row]"
   ]
  },
  {
   "cell_type": "code",
   "execution_count": null,
   "metadata": {},
   "outputs": [],
   "source": [
    "# get the table\n",
    "soup = BeautifulSoup(website_url,'lxml')\n",
    "my_table = soup.find(\"table\", { \"class\":\"dataTable\"})\n",
    "rows=my_table.findAll(\"tr\")\n",
    "\n",
    "# convert to list of list\n",
    "my_data = [convert_to_list(r) for r in rows[1:]]"
   ]
  },
  {
   "cell_type": "code",
   "execution_count": null,
   "metadata": {},
   "outputs": [],
   "source": [
    "df_city = pd.DataFrame(my_data,columns=['City,State','Population_Density','Population','Land_Area'])\n",
    "\n",
    "# convert the number from string to integer\n",
    "for col in df_city.columns[1:]:\n",
    "    df_city[col]=df_city[col].apply(lambda s: int(s.replace(',','')))"
   ]
  },
  {
   "cell_type": "code",
   "execution_count": null,
   "metadata": {},
   "outputs": [],
   "source": [
    "US_city = [city.upper().split(\",\")[0] for city in df_city['City,State'].tolist()]\n",
    "US_city"
   ]
  },
  {
   "cell_type": "code",
   "execution_count": null,
   "metadata": {},
   "outputs": [],
   "source": [
    "df_US_city = df[df['City'].str.upper().isin(US_city)]"
   ]
  },
  {
   "cell_type": "code",
   "execution_count": null,
   "metadata": {},
   "outputs": [],
   "source": [
    "df_US_city.shape[0]"
   ]
  },
  {
   "cell_type": "code",
   "execution_count": null,
   "metadata": {},
   "outputs": [],
   "source": [
    "df_US_city.groupby(['City','Category'])['Title'].count()"
   ]
  },
  {
   "cell_type": "code",
   "execution_count": null,
   "metadata": {},
   "outputs": [],
   "source": [
    "df['Date'].min()"
   ]
  },
  {
   "cell_type": "code",
   "execution_count": null,
   "metadata": {},
   "outputs": [],
   "source": [
    "df['Date'].max()"
   ]
  },
  {
   "cell_type": "code",
   "execution_count": null,
   "metadata": {},
   "outputs": [],
   "source": [
    "df_state = pd.read_csv('WebScraping_state_abv.csv')"
   ]
  },
  {
   "cell_type": "code",
   "execution_count": null,
   "metadata": {},
   "outputs": [],
   "source": [
    "state_abv = dict(zip(df_state['Full_name'].tolist(),df_state['USPS'].tolist()))"
   ]
  },
  {
   "cell_type": "code",
   "execution_count": null,
   "metadata": {},
   "outputs": [],
   "source": [
    "state_abv"
   ]
  },
  {
   "cell_type": "code",
   "execution_count": null,
   "metadata": {},
   "outputs": [],
   "source": [
    "df['Brand']"
   ]
  }
 ],
 "metadata": {
  "kernelspec": {
   "display_name": "Python 3",
   "language": "python",
   "name": "python3"
  },
  "language_info": {
   "codemirror_mode": {
    "name": "ipython",
    "version": 3
   },
   "file_extension": ".py",
   "mimetype": "text/x-python",
   "name": "python",
   "nbconvert_exporter": "python",
   "pygments_lexer": "ipython3",
   "version": "3.6.8"
  }
 },
 "nbformat": 4,
 "nbformat_minor": 2
}
